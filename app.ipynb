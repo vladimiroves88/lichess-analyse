{
 "cells": [
  {
   "cell_type": "code",
   "execution_count": 1,
   "metadata": {},
   "outputs": [],
   "source": [
    "import chess\n",
    "from LichAnalyse import LichAnalyse\n",
    "import pandas as pd\n",
    "from datetime import datetime"
   ]
  },
  {
   "cell_type": "code",
   "execution_count": 74,
   "metadata": {},
   "outputs": [],
   "source": [
    "import matplotlib.pyplot as plt\n",
    "import seaborn as sns\n",
    "%matplotlib inline\n",
    "plt.style.use('seaborn')"
   ]
  },
  {
   "cell_type": "code",
   "execution_count": 2,
   "metadata": {},
   "outputs": [],
   "source": [
    "with open('./lichess.token') as f:\n",
    "    token = f.read()"
   ]
  },
  {
   "cell_type": "code",
   "execution_count": 3,
   "metadata": {},
   "outputs": [],
   "source": [
    "lich = LichAnalyse(token)"
   ]
  },
  {
   "cell_type": "code",
   "execution_count": 4,
   "metadata": {},
   "outputs": [],
   "source": [
    "games = lich.get_games()"
   ]
  },
  {
   "cell_type": "code",
   "execution_count": 53,
   "metadata": {},
   "outputs": [
    {
     "data": {
      "text/plain": [
       "{'id': 'GGlqRaYO',\n",
       " 'rated': False,\n",
       " 'variant': 'standard',\n",
       " 'speed': 'rapid',\n",
       " 'perf': 'rapid',\n",
       " 'createdAt': 1584896035662,\n",
       " 'lastMoveAt': 1584897076693,\n",
       " 'status': 'mate',\n",
       " 'players': {'white': {'user': {'name': 'Bummmmmmmm', 'id': 'bummmmmmmm'},\n",
       "   'rating': 1685},\n",
       "  'black': {}},\n",
       " 'winner': 'black',\n",
       " 'moves': 'd4 c6 c4 d5 e3 Nf6 Nc3 Qc7 Nf3 e6 cxd5 Bb4 dxe6 Bxe6 Be2 Nbd7 O-O h5 a3 Bd6 h3 g5 Nxg5 Bh2+ Kh1 Ng4 Nxe6 Qd6 Bxg4 hxg4 Qxg4 fxe6 Qg6+ Kd8 g3 Rxh3 Qg8+ Nf8 Qg5+ Kc7 Qe5 Bxg3+ Kg2 Bxe5 dxe5 Qxe5 Kxh3 Ng6 Rg1 Rh8+ Kg2 Qh2+ Kf1 Ne5 Rg7+ Kd6 Ne4+ Kd5 Nc3+ Kc5 Ne4+ Kb6 Ke2 Rf8 Bd2 Qh5+ Ke1 Qf3 Nc3 Nd3+ Kf1 Qxf2#',\n",
       " 'clock': {'initial': 600, 'increment': 0, 'totalTime': 600}}"
      ]
     },
     "execution_count": 53,
     "metadata": {},
     "output_type": "execute_result"
    }
   ],
   "source": [
    "games[2177]"
   ]
  },
  {
   "cell_type": "code",
   "execution_count": 6,
   "metadata": {},
   "outputs": [
    {
     "name": "stdout",
     "output_type": "stream",
     "text": [
      "Scacchi1\n",
      "Raviudma\n",
      "Balderas03\n",
      "quzath_banu7\n",
      "AnnetteTay\n",
      "Kilan77\n",
      "zehRealSSM\n",
      "Zeta53\n",
      "CrapCrusher\n",
      "Vasa1628\n",
      "Msp041177\n"
     ]
    }
   ],
   "source": [
    "for i, game in enumerate(games):\n",
    "    if i > 10:\n",
    "        break    \n",
    "    if game['players']['white']['user']['name'] == lich.account_name:\n",
    "        #print(f\"{game['players']['black']['user']['name']} - {game['players']['black']['rating']}\")\n",
    "        print(game['players']['black']['user']['name'])\n",
    "    else:\n",
    "        #print(f\"{game['players']['white']['user']['name']} - {game['players']['white']['rating']}\")\n",
    "        print(game['players']['white']['user']['name'])\n"
   ]
  },
  {
   "cell_type": "code",
   "execution_count": 55,
   "metadata": {},
   "outputs": [],
   "source": [
    "df = pd.DataFrame(columns=['Rated', 'Variant', 'Speed', 'Perf', 'CreatedAt', 'LastMoveAt', 'Status', 'Color', 'My_rating', 'My_diff', 'Opponent_name', 'Opponent_rating', 'Opponent_diff', 'Result'])\n",
    "\n",
    "for i, game in enumerate(games):\n",
    "    #if i > 100:\n",
    "    #   break\n",
    "    #print(i) \n",
    "    rated = game['rated']\n",
    "    if game['variant'] != 'standard':\n",
    "        continue\n",
    "    variant = game['variant']\n",
    "    speed = game['speed']\n",
    "    perf = game['perf']\n",
    "    createdAt = datetime.fromtimestamp(game['createdAt']/1000).strftime('%Y-%m-%dT%H:%M')\n",
    "    lastMoveAt = datetime.fromtimestamp(game['lastMoveAt']/1000).strftime('%Y-%m-%dT%H:%M')\n",
    "    status = game['status']\n",
    "    try:\n",
    "        user_1 = game['players']['white']['user']['name']\n",
    "        user_2 = game['players']['black']['user']['name']\n",
    "    except:\n",
    "        continue\n",
    "    if game['players']['white']['user']['name'] == lich.account_name:    \n",
    "        color = list(game['players'].keys())[0]\n",
    "        my_rating = game['players']['white']['rating']\n",
    "        try:\n",
    "            my_diff = game['players']['white']['ratingDiff']\n",
    "            opponent_diff = game['players']['black']['ratingDiff']\n",
    "        except:\n",
    "            my_diff = 0\n",
    "            opponent_diff\n",
    "        opponent_name = game['players']['black']['user']['name']\n",
    "        opponent_rating = game['players']['black']['rating']        \n",
    "    else:    \n",
    "        color = list(game['players'].keys())[1]\n",
    "        my_rating = game['players']['black']['rating']\n",
    "        try:\n",
    "            my_diff = game['players']['black']['ratingDiff']\n",
    "            opponent_diff = game['players']['white']['ratingDiff']\n",
    "        except:\n",
    "            my_diff = 0\n",
    "            opponent_diff = 0\n",
    "        opponent_name = game['players']['white']['user']['name']\n",
    "        opponent_rating = game['players']['white']['rating']\n",
    "        \n",
    "    if status == 'draw':\n",
    "        result = 'draw'\n",
    "    else:\n",
    "        try:\n",
    "            winner = game['winner']\n",
    "            result = 'win' if color == winner else 'lose'\n",
    "        except:\n",
    "            result = 'draw'\n",
    "        \n",
    "\n",
    "    game_df = pd.DataFrame(data={'Rated' : rated, 'Variant' : variant, 'Speed': speed, 'Perf' : perf, 'CreatedAt' : createdAt, 'LastMoveAt' : lastMoveAt, 'Status' : status, 'Color' : color, 'My_rating' : my_rating, 'My_diff' : my_diff, \n",
    "                            'Opponent_name' : opponent_name, 'Opponent_rating' : opponent_rating, 'Opponent_diff' : opponent_diff, 'Result' : result}, index=[0])\n",
    "    \n",
    "    df = pd.concat([df, game_df], ignore_index=True)"
   ]
  },
  {
   "cell_type": "code",
   "execution_count": 150,
   "metadata": {},
   "outputs": [
    {
     "data": {
      "image/png": "[encoded data removed]",
      "text/plain": [
       "<Figure size 720x432 with 1 Axes>"
      ]
     },
     "metadata": {},
     "output_type": "display_data"
    }
   ],
   "source": [
    "fig, ax = plt.subplots(figsize=(10, 6))\n",
    "\n",
    "sns.barplot(y='Result', x='index', data=df['Result'].value_counts().reset_index(), ax=ax)\n",
    "\n",
    "ax.set_title('Результаты игр против всех соперников', fontsize = 20)\n",
    "ax.set_xlabel('Рeзультат', fontsize = 19, labelpad = 10, fontweight ='bold')\n",
    "ax.set_ylabel('Сумма', fontsize = 19, labelpad = 10, fontweight ='bold')\n",
    "\n",
    "\n",
    "plt.bar_label(ax.containers[0], backgroundcolor = 'lightsteelblue', fontsize = 12)\n",
    "\n",
    "plt.show()"
   ]
  }
 ],
 "metadata": {
  "interpreter": {
   "hash": "70c6f1bf3b5db350d18a942892791c2003d0e0e7c25e62b153e87778e1512992"
  },
  "kernelspec": {
   "display_name": "Python 3.8.10 ('.venv': venv)",
   "language": "python",
   "name": "python3"
  },
  "language_info": {
   "codemirror_mode": {
    "name": "ipython",
    "version": 3
   },
   "file_extension": ".py",
   "mimetype": "text/x-python",
   "name": "python",
   "nbconvert_exporter": "python",
   "pygments_lexer": "ipython3",
   "version": "3.8.10"
  },
  "orig_nbformat": 4
 },
 "nbformat": 4,
 "nbformat_minor": 2
}
